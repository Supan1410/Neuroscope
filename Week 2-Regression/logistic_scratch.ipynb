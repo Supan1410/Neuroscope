{
 "cells": [
  {
   "cell_type": "code",
   "execution_count": 2,
   "metadata": {},
   "outputs": [
    {
     "name": "stdout",
     "output_type": "stream",
     "text": [
      "Accuracy of the model is 82.87746170678336 %\n"
     ]
    }
   ],
   "source": [
    "import numpy as np\n",
    "d =np.loadtxt(\"framingham.csv\",delimiter= \",\",dtype= str) \n",
    "d= d[~np.any(d==\"NA\",axis=1)]\n",
    "\n",
    "x= d[1:,:-1]\n",
    "\n",
    "y= d[1:,-1]\n",
    "y=y.reshape(-1,1)\n",
    "y= y.astype(float)\n",
    "w= np.zeros(x.shape[1]) \n",
    "wc=w.copy()\n",
    "m= x.shape[0]\n",
    "conw=0.0001\n",
    "cw=np.ones(x.shape[1])\n",
    "conb=0.0001\n",
    "cb=1\n",
    "alpha=0.1\n",
    "b=0\n",
    "bc=b\n",
    "x = x.astype(float)\n",
    "x=x/np.nanmax(x,axis=0) #resacling the data\n",
    "iter=500\n",
    "count=0\n",
    "\n",
    "while(iter>0):\n",
    "    l= np.dot(x,wc)+bc\n",
    "    fx= 1/(1+np.exp(-l))\n",
    "    fx= fx.reshape(-1,1)\n",
    "    \n",
    "    t1= alpha*(fx-y)\n",
    "    t=np.nansum(t1*x,axis=0)\n",
    "    w=w-t/m\n",
    "    \n",
    "    b= b- np.nansum(t1)/m\n",
    "    \n",
    "    cw= np.abs(w-wc)\n",
    "    \n",
    "    cb=np.abs(b-bc)\n",
    "  \n",
    "    wc=w.copy()\n",
    "    bc=b\n",
    "    iter=iter-1\n",
    "\n",
    "def predict(x):\n",
    "    l= np.dot(x,w)+b\n",
    "    return 1 if l>=-1 else 0\n",
    "for i in range(0,x.shape[0]):\n",
    "   \n",
    "    if predict(x[i])==y[i]:\n",
    "        count=count+1\n",
    "print(\"Accuracy of the model is\",count*100/m,\"%\")\n",
    "\n"
   ]
  },
  {
   "cell_type": "code",
   "execution_count": null,
   "metadata": {},
   "outputs": [],
   "source": []
  }
 ],
 "metadata": {
  "kernelspec": {
   "display_name": "Python 3",
   "language": "python",
   "name": "python3"
  },
  "language_info": {
   "codemirror_mode": {
    "name": "ipython",
    "version": 3
   },
   "file_extension": ".py",
   "mimetype": "text/x-python",
   "name": "python",
   "nbconvert_exporter": "python",
   "pygments_lexer": "ipython3",
   "version": "3.13.1"
  }
 },
 "nbformat": 4,
 "nbformat_minor": 2
}
