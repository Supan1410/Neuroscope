{
 "cells": [
  {
   "cell_type": "code",
   "execution_count": null,
   "metadata": {},
   "outputs": [],
   "source": [
    "try:\n",
    "    n= float(input(\"Input a Float number as input:\"))\n",
    "    print (\"number entered is\", n)\n",
    "except ValueError:\n",
    "    print(\"pls input a valid real number, your input is incorrect\")"
   ]
  },
  {
   "cell_type": "code",
   "execution_count": null,
   "metadata": {},
   "outputs": [],
   "source": [
    "istrue= True\n",
    "while istrue:\n",
    "    try:\n",
    "          \n",
    "        m= float( input(\"Input a number which is a decimal number\"))\n",
    "        if int(m) ==m:\n",
    "            istrue=False\n",
    "    except ValueError:\n",
    "        istrue= False\n",
    "        \n",
    "        \n",
    "    \n",
    "print(\"You did not input a decimal number\")\n",
    "\n"
   ]
  },
  {
   "cell_type": "markdown",
   "metadata": {},
   "source": []
  },
  {
   "cell_type": "code",
   "execution_count": null,
   "metadata": {},
   "outputs": [],
   "source": [
    "import numpy as np\n",
    "\n",
    "n= int(input(\"Enter number of elements you want to enter in the array\"))\n",
    "arr=np.zeros(n)\n",
    "for i in range(n):\n",
    "    j=i+1\n",
    "    arr[i]= input(\"entry at position \"+ str(j) +\" \")\n",
    "print(arr)"
   ]
  },
  {
   "cell_type": "code",
   "execution_count": null,
   "metadata": {},
   "outputs": [],
   "source": [
    "import numpy as np\n",
    "arr=np.array([[1,2,3], [4,5,6],[7,8,9]])\n",
    "print (arr)\n",
    "print(arr.T)\n",
    "sumrow= arr.sum(axis=1)\n",
    "\n",
    "sumcolumn=arr.sum(axis=0)\n",
    "a=np.stack((sumrow,sumcolumn),axis=0)\n",
    "print(a)"
   ]
  },
  {
   "cell_type": "code",
   "execution_count": null,
   "metadata": {},
   "outputs": [],
   "source": [
    "import matplotlib.pyplot as plt\n",
    "import numpy as np\n",
    "x = np.arange(-100,100.1,0.1)\n",
    "fg,ax=plt.subplots(1,2)\n",
    "ax[0].plot(x,np.maximum(0,x))\n",
    "ax[0]. set_title(\"Graph 1\")\n",
    "ax[1].plot(x,1/(1+np.exp(-x)),color=\"black\")\n",
    "ax[1].plot(x,np.tanh(x),color=\"blue\")\n",
    "ax[1].set_title(\"Graph 2\")\n",
    "fg.suptitle(\"question 5\")\n",
    "fg.set_dpi(500)\n",
    "plt.show()\n"
   ]
  },
  {
   "cell_type": "code",
   "execution_count": null,
   "metadata": {},
   "outputs": [],
   "source": [
    "#array arr is already there in q4,so execute that first then this \n",
    "import numpy as np\n",
    "import matplotlib.pyplot as plt\n",
    "diag=arr.diagonal()\n",
    "st=np.sum(np.exp(diag))\n",
    "soft_max=np.exp(diag)/st\n",
    "print(\"all softmax values is\",soft_max)\n",
    "print(\"sum of all softmax values is\", np.sum(soft_max))\n",
    "md=diag[0]\n",
    "for element in diag:\n",
    "    if element > md:\n",
    "        md=element\n",
    "print(\"Maximum diagnol element is\",md)\n",
    "plt.plot(diag,soft_max)\n",
    "\n",
    "\n"
   ]
  }
 ],
 "metadata": {
  "kernelspec": {
   "display_name": "Python 3",
   "language": "python",
   "name": "python3"
  },
  "language_info": {
   "codemirror_mode": {
    "name": "ipython",
    "version": 3
   },
   "file_extension": ".py",
   "mimetype": "text/x-python",
   "name": "python",
   "nbconvert_exporter": "python",
   "pygments_lexer": "ipython3",
   "version": "3.13.1"
  }
 },
 "nbformat": 4,
 "nbformat_minor": 2
}
